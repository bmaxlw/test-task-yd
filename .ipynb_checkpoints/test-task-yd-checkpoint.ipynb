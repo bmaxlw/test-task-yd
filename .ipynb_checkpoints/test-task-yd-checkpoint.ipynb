{
 "cells": [
  {
   "cell_type": "code",
   "execution_count": 97,
   "id": "3b903970",
   "metadata": {},
   "outputs": [],
   "source": [
    "import pandas as pd\n",
    "import numpy as np"
   ]
  },
  {
   "cell_type": "markdown",
   "id": "16a16c6c",
   "metadata": {},
   "source": [
    "#### 1. Upload transactions.csv to Pandas and get a general data overview"
   ]
  },
  {
   "cell_type": "code",
   "execution_count": 170,
   "id": "dbe6c3fa",
   "metadata": {},
   "outputs": [
    {
     "data": {
      "text/html": [
       "<div>\n",
       "<style scoped>\n",
       "    .dataframe tbody tr th:only-of-type {\n",
       "        vertical-align: middle;\n",
       "    }\n",
       "\n",
       "    .dataframe tbody tr th {\n",
       "        vertical-align: top;\n",
       "    }\n",
       "\n",
       "    .dataframe thead th {\n",
       "        text-align: right;\n",
       "    }\n",
       "</style>\n",
       "<table border=\"1\" class=\"dataframe\">\n",
       "  <thead>\n",
       "    <tr style=\"text-align: right;\">\n",
       "      <th></th>\n",
       "      <th>ArticleId</th>\n",
       "      <th>SiteId</th>\n",
       "      <th>Date</th>\n",
       "      <th>Quantity</th>\n",
       "      <th>Price</th>\n",
       "      <th>CostPrice</th>\n",
       "    </tr>\n",
       "  </thead>\n",
       "  <tbody>\n",
       "    <tr>\n",
       "      <th>0</th>\n",
       "      <td>170936</td>\n",
       "      <td>4</td>\n",
       "      <td>9/05/2019</td>\n",
       "      <td>7</td>\n",
       "      <td>39.0</td>\n",
       "      <td>30.15</td>\n",
       "    </tr>\n",
       "    <tr>\n",
       "      <th>1</th>\n",
       "      <td>171979</td>\n",
       "      <td>7</td>\n",
       "      <td>18/01/2019</td>\n",
       "      <td>4</td>\n",
       "      <td>43.5</td>\n",
       "      <td>28.11</td>\n",
       "    </tr>\n",
       "    <tr>\n",
       "      <th>2</th>\n",
       "      <td>200838</td>\n",
       "      <td>5</td>\n",
       "      <td>16/05/2019</td>\n",
       "      <td>10</td>\n",
       "      <td>95.0</td>\n",
       "      <td>159.49</td>\n",
       "    </tr>\n",
       "    <tr>\n",
       "      <th>3</th>\n",
       "      <td>176139</td>\n",
       "      <td>7</td>\n",
       "      <td>21/12/2018</td>\n",
       "      <td>5</td>\n",
       "      <td>199.0</td>\n",
       "      <td>147.97</td>\n",
       "    </tr>\n",
       "    <tr>\n",
       "      <th>4</th>\n",
       "      <td>172551</td>\n",
       "      <td>5</td>\n",
       "      <td>11/04/2019</td>\n",
       "      <td>1</td>\n",
       "      <td>86.7</td>\n",
       "      <td>80.76</td>\n",
       "    </tr>\n",
       "    <tr>\n",
       "      <th>...</th>\n",
       "      <td>...</td>\n",
       "      <td>...</td>\n",
       "      <td>...</td>\n",
       "      <td>...</td>\n",
       "      <td>...</td>\n",
       "      <td>...</td>\n",
       "    </tr>\n",
       "    <tr>\n",
       "      <th>17992</th>\n",
       "      <td>170936</td>\n",
       "      <td>6</td>\n",
       "      <td>10/09/2018</td>\n",
       "      <td>5</td>\n",
       "      <td>39.0</td>\n",
       "      <td>30.06</td>\n",
       "    </tr>\n",
       "    <tr>\n",
       "      <th>17993</th>\n",
       "      <td>199219</td>\n",
       "      <td>6</td>\n",
       "      <td>23/01/2019</td>\n",
       "      <td>4</td>\n",
       "      <td>89.0</td>\n",
       "      <td>77.90</td>\n",
       "    </tr>\n",
       "    <tr>\n",
       "      <th>17994</th>\n",
       "      <td>165811</td>\n",
       "      <td>5</td>\n",
       "      <td>13/12/2018</td>\n",
       "      <td>4</td>\n",
       "      <td>21.9</td>\n",
       "      <td>15.74</td>\n",
       "    </tr>\n",
       "    <tr>\n",
       "      <th>17995</th>\n",
       "      <td>167108</td>\n",
       "      <td>8</td>\n",
       "      <td>1/04/2019</td>\n",
       "      <td>1</td>\n",
       "      <td>27.9</td>\n",
       "      <td>18.62</td>\n",
       "    </tr>\n",
       "    <tr>\n",
       "      <th>17996</th>\n",
       "      <td>170936</td>\n",
       "      <td>8</td>\n",
       "      <td>5/12/2018</td>\n",
       "      <td>11</td>\n",
       "      <td>39.0</td>\n",
       "      <td>30.08</td>\n",
       "    </tr>\n",
       "  </tbody>\n",
       "</table>\n",
       "<p>17997 rows × 6 columns</p>\n",
       "</div>"
      ],
      "text/plain": [
       "       ArticleId  SiteId        Date  Quantity  Price  CostPrice\n",
       "0         170936       4   9/05/2019         7   39.0      30.15\n",
       "1         171979       7  18/01/2019         4   43.5      28.11\n",
       "2         200838       5  16/05/2019        10   95.0     159.49\n",
       "3         176139       7  21/12/2018         5  199.0     147.97\n",
       "4         172551       5  11/04/2019         1   86.7      80.76\n",
       "...          ...     ...         ...       ...    ...        ...\n",
       "17992     170936       6  10/09/2018         5   39.0      30.06\n",
       "17993     199219       6  23/01/2019         4   89.0      77.90\n",
       "17994     165811       5  13/12/2018         4   21.9      15.74\n",
       "17995     167108       8   1/04/2019         1   27.9      18.62\n",
       "17996     170936       8   5/12/2018        11   39.0      30.08\n",
       "\n",
       "[17997 rows x 6 columns]"
      ]
     },
     "execution_count": 170,
     "metadata": {},
     "output_type": "execute_result"
    }
   ],
   "source": [
    "data = pd.read_csv('transactions.csv')\n",
    "data"
   ]
  },
  {
   "cell_type": "code",
   "execution_count": 106,
   "id": "84bdafb6",
   "metadata": {},
   "outputs": [],
   "source": [
    "# Assign columns to Series\n",
    "articleId =  data['ArticleId']\n",
    "siteId    =  data['SiteId']\n",
    "date      =  data['Date']\n",
    "quantity  =  data['Quantity']\n",
    "price     =  data['Price']\n",
    "costPrice =  data['CostPrice']"
   ]
  },
  {
   "cell_type": "code",
   "execution_count": 168,
   "id": "2d67b99e",
   "metadata": {},
   "outputs": [
    {
     "name": "stdout",
     "output_type": "stream",
     "text": [
      "<class 'pandas.core.frame.DataFrame'>\n",
      "RangeIndex: 17997 entries, 0 to 17996\n",
      "Data columns (total 6 columns):\n",
      " #   Column     Non-Null Count  Dtype  \n",
      "---  ------     --------------  -----  \n",
      " 0   ArticleId  17997 non-null  int64  \n",
      " 1   SiteId     17997 non-null  int64  \n",
      " 2   Date       17997 non-null  object \n",
      " 3   Quantity   17997 non-null  int64  \n",
      " 4   Price      17984 non-null  float64\n",
      " 5   CostPrice  17970 non-null  float64\n",
      "dtypes: float64(2), int64(3), object(1)\n",
      "memory usage: 843.7+ KB\n"
     ]
    }
   ],
   "source": [
    "data.info()"
   ]
  },
  {
   "cell_type": "code",
   "execution_count": 199,
   "id": "1847db08",
   "metadata": {},
   "outputs": [
    {
     "data": {
      "text/html": [
       "<div>\n",
       "<style scoped>\n",
       "    .dataframe tbody tr th:only-of-type {\n",
       "        vertical-align: middle;\n",
       "    }\n",
       "\n",
       "    .dataframe tbody tr th {\n",
       "        vertical-align: top;\n",
       "    }\n",
       "\n",
       "    .dataframe thead th {\n",
       "        text-align: right;\n",
       "    }\n",
       "</style>\n",
       "<table border=\"1\" class=\"dataframe\">\n",
       "  <thead>\n",
       "    <tr style=\"text-align: right;\">\n",
       "      <th></th>\n",
       "      <th>ArticleId</th>\n",
       "      <th>SiteId</th>\n",
       "      <th>Quantity</th>\n",
       "      <th>Price</th>\n",
       "      <th>CostPrice</th>\n",
       "    </tr>\n",
       "  </thead>\n",
       "  <tbody>\n",
       "    <tr>\n",
       "      <th>count</th>\n",
       "      <td>17997.000000</td>\n",
       "      <td>17997.00000</td>\n",
       "      <td>17997.000000</td>\n",
       "      <td>17984.000000</td>\n",
       "      <td>17970.000000</td>\n",
       "    </tr>\n",
       "    <tr>\n",
       "      <th>mean</th>\n",
       "      <td>177390.908763</td>\n",
       "      <td>5.99211</td>\n",
       "      <td>6.260599</td>\n",
       "      <td>81.778959</td>\n",
       "      <td>64.442784</td>\n",
       "    </tr>\n",
       "    <tr>\n",
       "      <th>std</th>\n",
       "      <td>12249.515240</td>\n",
       "      <td>1.45662</td>\n",
       "      <td>8.413260</td>\n",
       "      <td>72.251808</td>\n",
       "      <td>58.840182</td>\n",
       "    </tr>\n",
       "    <tr>\n",
       "      <th>min</th>\n",
       "      <td>165811.000000</td>\n",
       "      <td>4.00000</td>\n",
       "      <td>-42.000000</td>\n",
       "      <td>8.700000</td>\n",
       "      <td>5.830000</td>\n",
       "    </tr>\n",
       "    <tr>\n",
       "      <th>25%</th>\n",
       "      <td>170069.000000</td>\n",
       "      <td>5.00000</td>\n",
       "      <td>2.000000</td>\n",
       "      <td>26.900000</td>\n",
       "      <td>18.580000</td>\n",
       "    </tr>\n",
       "    <tr>\n",
       "      <th>50%</th>\n",
       "      <td>172551.000000</td>\n",
       "      <td>6.00000</td>\n",
       "      <td>4.000000</td>\n",
       "      <td>46.900000</td>\n",
       "      <td>30.130000</td>\n",
       "    </tr>\n",
       "    <tr>\n",
       "      <th>75%</th>\n",
       "      <td>176139.000000</td>\n",
       "      <td>7.00000</td>\n",
       "      <td>9.000000</td>\n",
       "      <td>95.000000</td>\n",
       "      <td>82.480000</td>\n",
       "    </tr>\n",
       "    <tr>\n",
       "      <th>max</th>\n",
       "      <td>200838.000000</td>\n",
       "      <td>9.00000</td>\n",
       "      <td>432.000000</td>\n",
       "      <td>399.000000</td>\n",
       "      <td>383.010000</td>\n",
       "    </tr>\n",
       "  </tbody>\n",
       "</table>\n",
       "</div>"
      ],
      "text/plain": [
       "           ArticleId       SiteId      Quantity         Price     CostPrice\n",
       "count   17997.000000  17997.00000  17997.000000  17984.000000  17970.000000\n",
       "mean   177390.908763      5.99211      6.260599     81.778959     64.442784\n",
       "std     12249.515240      1.45662      8.413260     72.251808     58.840182\n",
       "min    165811.000000      4.00000    -42.000000      8.700000      5.830000\n",
       "25%    170069.000000      5.00000      2.000000     26.900000     18.580000\n",
       "50%    172551.000000      6.00000      4.000000     46.900000     30.130000\n",
       "75%    176139.000000      7.00000      9.000000     95.000000     82.480000\n",
       "max    200838.000000      9.00000    432.000000    399.000000    383.010000"
      ]
     },
     "execution_count": 199,
     "metadata": {},
     "output_type": "execute_result"
    }
   ],
   "source": [
    "data.describe()\n",
    "# Number of counts seems to differ between the columns: 17997 / 17997 / 17997 / 17984 / 17970\n",
    "# Min. Quantity: -42 -> check abs"
   ]
  },
  {
   "cell_type": "code",
   "execution_count": 52,
   "id": "8570ee8d",
   "metadata": {},
   "outputs": [
    {
     "data": {
      "text/plain": [
       "ArticleId    17997\n",
       "SiteId       17997\n",
       "Date         17997\n",
       "Quantity     17997\n",
       "Price        17984\n",
       "CostPrice    17970\n",
       "dtype: int64"
      ]
     },
     "execution_count": 52,
     "metadata": {},
     "output_type": "execute_result"
    }
   ],
   "source": [
    "# Double-check the number of records per each column\n",
    "# Count of records between columns indeed differs.\n",
    "data.count()"
   ]
  },
  {
   "cell_type": "markdown",
   "id": "dc302f97",
   "metadata": {},
   "source": [
    "#### 2. Check the count inconsistencies between columns"
   ]
  },
  {
   "cell_type": "code",
   "execution_count": 75,
   "id": "32eb2da4",
   "metadata": {},
   "outputs": [
    {
     "data": {
      "text/plain": [
       "(13, 27)"
      ]
     },
     "execution_count": 75,
     "metadata": {},
     "output_type": "execute_result"
    }
   ],
   "source": [
    "# Check 'Price' & 'CostPrice' for nulls.\n",
    "# 13 rows are nulls for 'Price'. Therefore, count inconsistency of the column is caused by null-values (17997 - 13 = 17984).\n",
    "# 27 rows are nulls for 'CostPrice'. Therefore count, inconsistency of the column is caused by null-values (17997 - 27 = 17970).\n",
    "countPrice, countCostPrice = 0, 0\n",
    "for i in data['Price'].isnull():\n",
    "    if i == True:\n",
    "        countPrice+=1\n",
    "    else:\n",
    "        continue\n",
    "\n",
    "for i in data['CostPrice'].isnull():\n",
    "    if i == True:\n",
    "        countCostPrice+=1\n",
    "    else:\n",
    "        continue\n",
    "\n",
    "countPrice, countCostPrice"
   ]
  },
  {
   "cell_type": "markdown",
   "id": "6a58709f",
   "metadata": {},
   "source": [
    "#### 3. Check the count by .groupby due to the declared shape"
   ]
  },
  {
   "cell_type": "code",
   "execution_count": 88,
   "id": "b21c38c9",
   "metadata": {},
   "outputs": [
    {
     "data": {
      "text/plain": [
       "(           SiteId  Date  Quantity  Price  CostPrice\n",
       " ArticleId                                          \n",
       " 165811       1560  1560      1560   1560       1560\n",
       " 165954        302   302       302    301        301\n",
       " 167108       1624  1624      1624   1623       1620\n",
       " 169281        537   537       537    536        535\n",
       " 170069        656   656       656    655        656\n",
       " 170295       1185  1185      1185   1184       1185\n",
       " 170936       1853  1853      1853   1853       1853\n",
       " 171979       1012  1012      1012   1011       1008\n",
       " 172551       1640  1640      1640   1639       1639\n",
       " 172671        503   503       503    501        499\n",
       " 174022       1801  1801      1801   1801       1800\n",
       " 176139       1074  1074      1074   1072       1070\n",
       " 194516        966   966       966    964        962\n",
       " 199219       1604  1604      1604   1604       1602\n",
       " 200838       1680  1680      1680   1680       1680,\n",
       "         ArticleId  Date  Quantity  Price  CostPrice\n",
       " SiteId                                             \n",
       " 4            3741  3741      3741   3728       3741\n",
       " 5            3720  3720      3720   3720       3693\n",
       " 6            3443  3443      3443   3443       3443\n",
       " 7            3379  3379      3379   3379       3379\n",
       " 8            3461  3461      3461   3461       3461\n",
       " 9             253   253       253    253        253)"
      ]
     },
     "execution_count": 88,
     "metadata": {},
     "output_type": "execute_result"
    }
   ],
   "source": [
    "# '... Sample sales are based on real store data and are a cutout of the annual aggregation of 15 products (ArticleId) ...' \n",
    "# '... that were sold at 5 stores(SiteId) within two different groups ...'\n",
    "\n",
    "groupByArticleId = data.groupby(data['ArticleId']).count()\n",
    "groupBySiteId = data.groupby(data['SiteId']).count()\n",
    "\n",
    "groupByArticleId, groupBySiteId\n",
    "# ArticleId Check: 15/15 - correct\n",
    "# SiteId Check: 6/15 - incorrect\n",
    "# Issue №2. Either there is 1 extra SiteId or it should be 6 stores not 5. \n",
    "# (I guess 9th SiteId might be an extra one, since it holds only 253 records)"
   ]
  },
  {
   "cell_type": "markdown",
   "id": "7ac97d46",
   "metadata": {},
   "source": [
    "#### 4. Check dates"
   ]
  },
  {
   "cell_type": "code",
   "execution_count": 154,
   "id": "080f26ba",
   "metadata": {},
   "outputs": [
    {
     "data": {
      "text/plain": [
       "(8225, 9772, 0, 17997)"
      ]
     },
     "execution_count": 154,
     "metadata": {},
     "output_type": "execute_result"
    }
   ],
   "source": [
    "# Check date due to stated periods of time \n",
    "# (in head only 2018 & 2019 being shown, thus start from them, all the others go into else block)\n",
    "x18, x19, xx = 0, 0, 0\n",
    "\n",
    "for i in list(date):\n",
    "    if i[-4:] == '2018':\n",
    "        x18+=1\n",
    "    elif i[-4:] == '2019':\n",
    "        x19+=1\n",
    "    else:\n",
    "        xx+=1\n",
    "        \n",
    "x18,x19,xx,x18+x19+xx\n",
    "# Total of 17997 with 8225 counts in 2018 & 9772 counts in 2019 + 0 counts for other years (data is for 18/19 only)\n",
    "# Thus year range seems to be good (2-3 years range with no 'odd' dates such as 1900, etc.)\n",
    "# + all the dates end with correct years, there are no dates, which e.g. end with months or days"
   ]
  },
  {
   "cell_type": "code",
   "execution_count": 159,
   "id": "ba0182ca",
   "metadata": {},
   "outputs": [
    {
     "data": {
      "text/plain": [
       "(0, 17997, 0, 0, 17997)"
      ]
     },
     "execution_count": 159,
     "metadata": {},
     "output_type": "execute_result"
    }
   ],
   "source": [
    "lenLess9, len9or10, lenMore10, lenOther = 0, 0, 0, 0\n",
    "for i in date:\n",
    "    if len(i) < 9:\n",
    "        lenLess9+=1\n",
    "    elif len(i) == 9 or len(i) == 10:\n",
    "        len9or10+=1\n",
    "    elif len(i) > 10:\n",
    "        lenMore10+=1\n",
    "    else:\n",
    "        lenOther+=1\n",
    "lenLess9,len9or10,lenMore10,lenOther,lenLess9+len9or10+lenMore10+lenOther\n",
    "# Date lenghts seems to be OK for all records (9 or 10 len -> 9 when zeros in mono-numbers omitted)"
   ]
  },
  {
   "cell_type": "code",
   "execution_count": 172,
   "id": "7cf2b1b8",
   "metadata": {},
   "outputs": [
    {
     "data": {
      "text/plain": [
       "(0, 0)"
      ]
     },
     "execution_count": 172,
     "metadata": {},
     "output_type": "execute_result"
    }
   ],
   "source": [
    "dd, mm = 0, 0\n",
    "for i in date:\n",
    "    if int(i.split('/')[0]) > 31:\n",
    "        dd+=1\n",
    "    if int(i.split('/')[1]) > 12:\n",
    "        mm+=1\n",
    "\n",
    "dd, mm\n",
    "# days / month seems to be correct (no records w/ months > 12, days > 31)\n",
    "# also max days per each month can be checked to assure the correct assignment: \n",
    "# e.g. February can have max 29 days thus DD cannot be > 29 as for March, which can have 31 days"
   ]
  },
  {
   "cell_type": "code",
   "execution_count": 94,
   "id": "8658232c",
   "metadata": {},
   "outputs": [
    {
     "data": {
      "text/plain": [
       "ArticleId      int64\n",
       "SiteId         int64\n",
       "Date          object\n",
       "Quantity       int64\n",
       "Price        float64\n",
       "CostPrice    float64\n",
       "dtype: object"
      ]
     },
     "execution_count": 94,
     "metadata": {},
     "output_type": "execute_result"
    }
   ],
   "source": [
    "data.dtypes"
   ]
  },
  {
   "cell_type": "markdown",
   "id": "cf7b0e2a",
   "metadata": {},
   "source": [
    "#### 5. Check abs/0 of Qty/Price/CostPrice"
   ]
  },
  {
   "cell_type": "code",
   "execution_count": 195,
   "id": "d4819224",
   "metadata": {},
   "outputs": [
    {
     "data": {
      "text/plain": [
       "(820, 0, 17177)"
      ]
     },
     "execution_count": 195,
     "metadata": {},
     "output_type": "execute_result"
    }
   ],
   "source": [
    "minus, zero, plus = 0, 0, 0\n",
    "for i in quantity:\n",
    "    if int(i) == 0:\n",
    "        zero+=1\n",
    "    elif int(i) < 0:\n",
    "        minus+=1\n",
    "    elif int(i) > 0:\n",
    "        plus+=1\n",
    "\n",
    "minus, zero, plus  \n",
    "# 820,  0,  17177  qty has to be absolute"
   ]
  },
  {
   "cell_type": "code",
   "execution_count": 197,
   "id": "e8022331",
   "metadata": {},
   "outputs": [
    {
     "data": {
      "text/plain": [
       "(0, 0, 17984)"
      ]
     },
     "execution_count": 197,
     "metadata": {},
     "output_type": "execute_result"
    }
   ],
   "source": [
    "minus, zero, plus = 0, 0, 0\n",
    "for i in price:\n",
    "    if float(i) == 0:\n",
    "        zero+=1\n",
    "    elif float(i) < 0:\n",
    "        minus+=1\n",
    "    elif float(i) > 0:\n",
    "        plus+=1\n",
    "\n",
    "minus, zero, plus  \n",
    "# 0,    0,  17984  except blanks, price is ok (all abs)"
   ]
  },
  {
   "cell_type": "code",
   "execution_count": 198,
   "id": "262b7b7d",
   "metadata": {},
   "outputs": [
    {
     "data": {
      "text/plain": [
       "(0, 0, 17970)"
      ]
     },
     "execution_count": 198,
     "metadata": {},
     "output_type": "execute_result"
    }
   ],
   "source": [
    "minus, zero, plus = 0, 0, 0\n",
    "for i in costPrice:\n",
    "    if float(i) == 0:\n",
    "        zero+=1\n",
    "    elif float(i) < 0:\n",
    "        minus+=1\n",
    "    elif float(i) > 0:\n",
    "        plus+=1\n",
    "        \n",
    "minus, zero, plus\n",
    "# 0,    0,  17970  except blanks, costPrice is ok (all abs)"
   ]
  },
  {
   "cell_type": "markdown",
   "id": "49ed0be6",
   "metadata": {},
   "source": [
    "#### 6. Return clean CSV"
   ]
  },
  {
   "cell_type": "code",
   "execution_count": 190,
   "id": "88e98302",
   "metadata": {},
   "outputs": [],
   "source": [
    "# articleId =  data['ArticleId']\n",
    "# siteId    =  data['SiteId']\n",
    "# date      =  data['Date']\n",
    "# quantity  =  data['Quantity']\n",
    "# price     =  data['Price']\n",
    "# costPrice =  data['CostPrice']\n",
    "\n",
    "out = {'ArticleId': articleId.astype(int), \n",
    "'SiteId': siteId.astype(int),\n",
    "'Date': pd.to_datetime(date),\n",
    "'Quantity': quantity.astype(int), \n",
    "'Price': pd.to_numeric(price),\n",
    "'CostPrice': pd.to_numeric(costPrice)}\n",
    "\n",
    "outDf = pd.DataFrame(data=out)\n",
    "outDf.to_csv('out.csv')\n",
    "\n",
    "# Here only datatypes fixed as an example..."
   ]
  }
 ],
 "metadata": {
  "kernelspec": {
   "display_name": "Python 3",
   "language": "python",
   "name": "python3"
  },
  "language_info": {
   "codemirror_mode": {
    "name": "ipython",
    "version": 3
   },
   "file_extension": ".py",
   "mimetype": "text/x-python",
   "name": "python",
   "nbconvert_exporter": "python",
   "pygments_lexer": "ipython3",
   "version": "3.9.5"
  }
 },
 "nbformat": 4,
 "nbformat_minor": 5
}
